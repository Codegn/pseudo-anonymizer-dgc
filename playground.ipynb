{
 "cells": [
  {
   "cell_type": "code",
   "execution_count": 1,
   "metadata": {},
   "outputs": [
    {
     "name": "stdout",
     "output_type": "stream",
     "text": [
      "sample\\anonimizados\n",
      "True\n",
      "sample\\anonimizados\\texto\n"
     ]
    }
   ],
   "source": [
    "import os\n",
    "from pathlib import Path\n",
    "input_folder = Path('sample')\n",
    "output_folder = Path('sample/anonimizados')\n",
    "delimiter = ';'\n",
    "print(output_folder)\n",
    "print(os.path.exists(output_folder))\n",
    "print(output_folder / 'texto')"
   ]
  },
  {
   "cell_type": "code",
   "execution_count": 2,
   "metadata": {},
   "outputs": [],
   "source": [
    "for root, dirs, files in os.walk(input_folder):\n",
    "    for filename in files:\n",
    "        # se contruye la ruta del archivo\n",
    "        file_path = input_folder / filename\n",
    "        file = open(file_path, 'r')\n",
    "        #print(file.readline())"
   ]
  },
  {
   "cell_type": "code",
   "execution_count": 7,
   "metadata": {},
   "outputs": [
    {
     "name": "stdout",
     "output_type": "stream",
     "text": [
      "<class 'numpy.ndarray'>\n",
      "0641414141313200000000\n",
      "\u0006AAAA12\u0000\u0000\u0000\u0000\n",
      "22\n",
      "11\n",
      "<class 'str'>\n",
      "074E4F2052454144000000\n",
      "\u0007NO READ\u0000\u0000\u0000\n",
      "22\n",
      "11\n",
      "<class 'str'>\n",
      "                      \n",
      "\n",
      "22\n",
      "0\n",
      "<class 'str'>\n",
      "0645454545333400000000\n",
      "\u0006EEEE34\u0000\u0000\u0000\u0000\n",
      "22\n",
      "11\n",
      "<class 'str'>\n",
      "0649494949353600000000\n",
      "\u0006IIII56\u0000\u0000\u0000\u0000\n",
      "22\n",
      "11\n",
      "<class 'str'>\n",
      "064F4F4F4F373800000000\n",
      "\u0006OOOO78\u0000\u0000\u0000\u0000\n",
      "22\n",
      "11\n",
      "<class 'str'>\n",
      "0655555555393000000000\n",
      "\u0006UUUU90\u0000\u0000\u0000\u0000\n",
      "22\n",
      "11\n",
      "<class 'str'>\n",
      "064145494F313000000000\n",
      "\u0006AEIO10\u0000\u0000\u0000\u0000\n",
      "22\n",
      "11\n",
      "<class 'str'>\n",
      "0655414549353600000000\n",
      "\u0006UAEI56\u0000\u0000\u0000\u0000\n",
      "22\n",
      "11\n",
      "<class 'str'>\n",
      "0641414545373800000000\n",
      "\u0006AAEE78\u0000\u0000\u0000\u0000\n",
      "22\n",
      "11\n",
      "<class 'str'>\n",
      "0649494F4F343500000000\n",
      "\u0006IIOO45\u0000\u0000\u0000\u0000\n",
      "22\n",
      "11\n",
      "<class 'str'>\n",
      "064149454F333700000000\n",
      "\u0006AIEO37\u0000\u0000\u0000\u0000\n",
      "22\n",
      "11\n",
      "<class 'str'>\n",
      "0343484C00000000640000\n",
      "\u0003CHL\u0000\u0000\u0000\u0000d\u0000\u0000\n",
      "22\n",
      "11\n",
      "<class 'str'>\n",
      "0000000000000000000000\n",
      "\u0000\u0000\u0000\u0000\u0000\u0000\u0000\u0000\u0000\u0000\u0000\n",
      "22\n",
      "11\n",
      "<class 'str'>\n",
      "0343484C00000000620000\n",
      "\u0003CHL\u0000\u0000\u0000\u0000b\u0000\u0000\n",
      "22\n",
      "11\n",
      "<class 'str'>\n"
     ]
    }
   ],
   "source": [
    "import pandas as pd\n",
    "delimiter = ';'\n",
    "file = input_folder / 'PM_PC_Autoestrade_v_4-1.txt'\n",
    "file = input_folder / 'PM_PC_KTC_v_3-11.txt'\n",
    "df = pd.read_csv(file,\n",
    "                         header=None,\n",
    "                         sep=delimiter,\n",
    "                         skiprows=[0])\n",
    "#print(df.iloc[:, 57:60])\n",
    "placas = pd.unique(df.iloc[:, 57:60].values.ravel('K'))\n",
    "print(type(placas))\n",
    "for placa in placas:\n",
    "    print(placa)\n",
    "    print(bytearray.fromhex(placa).decode())\n",
    "    print(len(placa))\n",
    "    print(len(str(bytearray.fromhex(placa).decode())))\n",
    "    print(type(placa))"
   ]
  },
  {
   "cell_type": "code",
   "execution_count": 22,
   "metadata": {},
   "outputs": [
    {
     "name": "stdout",
     "output_type": "stream",
     "text": [
      "    57    58    59\n",
      "0    1  31.0  31.0\n",
      "1    2  31.0  31.0\n",
      "2    3  31.0  31.0\n",
      "3    4  31.0  31.0\n",
      "4    5  31.0  31.0\n",
      "5    6  31.0  31.0\n",
      "6    7  31.0  31.0\n",
      "7    8  31.0  31.0\n",
      "8    9  31.0  31.0\n",
      "9   10  31.0  31.0\n",
      "10  11  31.0  31.0\n",
      "11  12  31.0  31.0\n",
      "12  13  31.0  31.0\n",
      "13  14  31.0  31.0\n",
      "14  15  31.0  31.0\n",
      "15  16  31.0  31.0\n",
      "16  17  31.0  31.0\n",
      "17  18  31.0  31.0\n",
      "18  19  31.0  31.0\n",
      "19  20  31.0  31.0\n",
      "20  21  31.0  31.0\n",
      "21  22  31.0  31.0\n",
      "22  23  31.0  31.0\n",
      "23  24  31.0  31.0\n",
      "24  25  31.0  31.0\n",
      "25  26  31.0  31.0\n",
      "26  27  31.0  31.0\n",
      "27  28  31.0  31.0\n",
      "28  29  31.0  31.0\n",
      "29  30  31.0  31.0\n"
     ]
    }
   ],
   "source": [
    "file2 = output_folder / 'PM_PC_Autoestrade_v_4-1.txt'\n",
    "df2 = pd.read_csv(file2,\n",
    "                         header=None,\n",
    "                         sep=delimiter,\n",
    "                         skiprows=[0])\n",
    "print(df2.iloc[:, 57:60])"
   ]
  },
  {
   "cell_type": "code",
   "execution_count": 32,
   "metadata": {},
   "outputs": [
    {
     "data": {
      "text/plain": [
       "False"
      ]
     },
     "execution_count": 32,
     "metadata": {},
     "output_type": "execute_result"
    }
   ],
   "source": [
    "'    ' == ' '"
   ]
  },
  {
   "cell_type": "code",
   "execution_count": null,
   "metadata": {},
   "outputs": [],
   "source": []
  }
 ],
 "metadata": {
  "kernelspec": {
   "display_name": "Python 3",
   "language": "python",
   "name": "python3"
  },
  "language_info": {
   "codemirror_mode": {
    "name": "ipython",
    "version": 3
   },
   "file_extension": ".py",
   "mimetype": "text/x-python",
   "name": "python",
   "nbconvert_exporter": "python",
   "pygments_lexer": "ipython3",
   "version": "3.7.1"
  }
 },
 "nbformat": 4,
 "nbformat_minor": 2
}
